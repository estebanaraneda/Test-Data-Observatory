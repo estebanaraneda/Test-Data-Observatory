{
 "cells": [
  {
   "cell_type": "code",
   "execution_count": 1,
   "metadata": {},
   "outputs": [],
   "source": [
    "import math"
   ]
  },
  {
   "cell_type": "code",
   "execution_count": 2,
   "metadata": {},
   "outputs": [],
   "source": [
    "def PatenteaID(Patente):\n",
    "    # Funcion recibe Patente (str) y devuelve ID (int)\n",
    "\n",
    "    #Almacenamos las letras con su numero asociado\n",
    "    Letras = ['A', 'B', 'C', 'D', 'E', 'F', 'G', 'H', 'I', 'J', 'K', 'L',\n",
    "              'M', 'N', 'O', 'P', 'Q', 'R', 'S', 'T', 'U', 'V', 'W', 'X', 'Y', 'Z']\n",
    "\n",
    "    #Obtenemos la patente en forma de lista\n",
    "    ListaP = list(Patente)\n",
    "\n",
    "    #Extraemos los numeros asociados a cada letra ej: Z=26\n",
    "    Numeros = []\n",
    "    i = 0\n",
    "    while i < len(ListaP) - 3:\n",
    "        Numero = 0\n",
    "        j = 0\n",
    "        while j < len(Letras):\n",
    "            if ListaP[i] == Letras[j]:\n",
    "                Numero = j\n",
    "            j = j + 1\n",
    "        Numeros.append(Numero)\n",
    "        i = i + 1\n",
    "\n",
    "    #Extraemos los 3 digitos finales de la Patente\n",
    "    i = len(ListaP) - 3\n",
    "    while i >= len(ListaP) - 3 and i < len(ListaP):\n",
    "        Numeros.append(ListaP[i])\n",
    "        i = i + 1\n",
    "\n",
    "    #Obtenemos el ID aplicando base 10 a los numeros y base 26 a las letras.\n",
    "    ID = 1\n",
    "    i = 0\n",
    "    while i < len(Numeros) - 4:\n",
    "        ID = ID + int(Numeros[i]) * (26**(len(Numeros) - i - 1))\n",
    "        i = i + 1\n",
    "    while i >= len(Numeros) - 4 and i < len(Numeros):\n",
    "        ID = ID + int(Numeros[i]) * (10**(len(Numeros) - i - 1))\n",
    "        i = i + 1\n",
    "    # Retornamos\n",
    "    return ID"
   ]
  },
  {
   "cell_type": "code",
   "execution_count": 3,
   "metadata": {},
   "outputs": [],
   "source": [
    "def IDaPatente(ID):\n",
    "    # Funcion recibe Patente (str) y devuelve ID (int)\n",
    "    \n",
    "    #Almacenamos las letras con su numero asociado\n",
    "    Letras = ['A', 'B', 'C', 'D', 'E', 'F', 'G', 'H', 'I', 'J', 'K', 'L',\n",
    "              'M', 'N', 'O', 'P', 'Q', 'R', 'S', 'T', 'U', 'V', 'W', 'X', 'Y', 'Z']\n",
    "    if ID >= 1000:\n",
    "        ID = ID - 1\n",
    "\n",
    "    LetrasN = math.trunc(ID / 1000)\n",
    "    Numeros = str(ID)[-3:]\n",
    "\n",
    "    # Añadimos ceros en medio del numero en forma de string para que no desaparezcan\n",
    "    if ID < 10:\n",
    "        Numeros = str(0) + str(0) + Numeros\n",
    "    elif ID < 100:\n",
    "        Numeros = str(0) + Numeros\n",
    "\n",
    "    # Convertimos a base 26 y pasamos a letras\n",
    "    Lista = []\n",
    "    i = 1\n",
    "    while i <= 4:\n",
    "        Lista.append(LetrasN % 27)\n",
    "        LetrasN = math.trunc(LetrasN / 27)\n",
    "        i = i + 1\n",
    "\n",
    "    j = 0\n",
    "    while j < len(Lista):\n",
    "        Lista[j] = Letras[Lista[j]]\n",
    "        j = j + 1\n",
    "\n",
    "\n",
    "    # Las letras estan en orden inverso, lo arreglamos\n",
    "    Patente = ''.join(reversed(Lista)) + str(Numeros)\n",
    "\n",
    "    # Retornamos patente en formato string\n",
    "    return Patente"
   ]
  },
  {
   "attachments": {},
   "cell_type": "markdown",
   "metadata": {},
   "source": [
    "Algunas pruebas de funcionamiento."
   ]
  },
  {
   "cell_type": "code",
   "execution_count": 4,
   "metadata": {},
   "outputs": [
    {
     "name": "stdout",
     "output_type": "stream",
     "text": [
      "AAAB000\n",
      "1001\n",
      "AAAZ999\n",
      "26000\n"
     ]
    }
   ],
   "source": [
    "print(IDaPatente(1001))\n",
    "print(PatenteaID('AAAB000'))\n",
    "print(IDaPatente(26000))\n",
    "print(PatenteaID('AAAZ999'))"
   ]
  }
 ],
 "metadata": {
  "kernelspec": {
   "display_name": "Python 3",
   "language": "python",
   "name": "python3"
  },
  "language_info": {
   "codemirror_mode": {
    "name": "ipython",
    "version": 3
   },
   "file_extension": ".py",
   "mimetype": "text/x-python",
   "name": "python",
   "nbconvert_exporter": "python",
   "pygments_lexer": "ipython3",
   "version": "3.10.4"
  },
  "orig_nbformat": 4
 },
 "nbformat": 4,
 "nbformat_minor": 2
}
